{
 "cells": [
  {
   "cell_type": "code",
   "execution_count": 188,
   "metadata": {},
   "outputs": [],
   "source": [
    "import pandas as pd\n",
    "import numpy as np\n",
    "import matplotlib.pyplot as plt\n",
    "from matplotlib.pyplot import figure"
   ]
  },
  {
   "cell_type": "code",
   "execution_count": 157,
   "metadata": {},
   "outputs": [],
   "source": [
    "df = pd.read_csv('result_s4.csv', header = None)"
   ]
  },
  {
   "cell_type": "code",
   "execution_count": 262,
   "metadata": {},
   "outputs": [
    {
     "name": "stderr",
     "output_type": "stream",
     "text": [
      "c:\\users\\abi\\appdata\\local\\programs\\python\\python37\\lib\\site-packages\\ipykernel_launcher.py:27: FutureWarning: specifying 'categories' or 'ordered' in .astype() is deprecated; pass a CategoricalDtype instead\n"
     ]
    }
   ],
   "source": [
    "##Cet\n",
    "\n",
    "cet = pd.read_csv('result_cet.csv', header = None)\n",
    "id = []\n",
    "HS200 = []\n",
    "for i in range(len(cet.index)) :\n",
    "    x, y = cet[0][i].split(\" \")\n",
    "    id.append(x)\n",
    "    HS200.append(y)\n",
    "cet['ID'] = pd.Series(id).values\n",
    "cet['HS200'] = pd.Series(HS200).values\n",
    "cet\n",
    "\n",
    "TVE17 = cet.ID.str.contains('^TVE17')\n",
    "LTVE17 = cet.ID.str.contains('^LTVE17')\n",
    "IDK17 = cet.ID.str.contains('^IDK17')\n",
    "WYD17 = cet.ID.str.contains('^WYD17')\n",
    "\n",
    "\n",
    "cet = cet[TVE17 | LTVE17 | IDK17 | WYD17]\n",
    "\n",
    "for i in cet.index.values :\n",
    "    cet.loc[i][1] = cet.loc[i][1].strip().replace('MA202(','').replace(')','')\n",
    "\n",
    "cet = cet[1]\n",
    "\n",
    "cet = cet.astype('category', categories = ['Absent','F','P','C','C+','B','B+','A','A+','O'],ordered=True)\n",
    "\n",
    "\n",
    "\n",
    "\n",
    "##cet code ends"
   ]
  },
  {
   "cell_type": "code",
   "execution_count": 158,
   "metadata": {},
   "outputs": [],
   "source": [
    "id = []\n",
    "HS200 = []\n",
    "for i in range(len(df.index)) :\n",
    "    x, y = df[0][i].split(\" \")\n",
    "    id.append(x)\n",
    "    HS200.append(y)"
   ]
  },
  {
   "cell_type": "code",
   "execution_count": 159,
   "metadata": {},
   "outputs": [],
   "source": [
    "df = df.drop(0 , axis=1)"
   ]
  },
  {
   "cell_type": "code",
   "execution_count": 160,
   "metadata": {},
   "outputs": [],
   "source": [
    "df['ID'] = pd.Series(id).values\n",
    "df['HS200'] = pd.Series(HS200).values"
   ]
  },
  {
   "cell_type": "code",
   "execution_count": 64,
   "metadata": {},
   "outputs": [],
   "source": [
    "#df = df.drop(df.index[[-3,-2]])"
   ]
  },
  {
   "cell_type": "code",
   "execution_count": 161,
   "metadata": {},
   "outputs": [],
   "source": [
    "pkd17 = df.ID.str.contains('^PKD17')\n",
    "LPKD17 = df.ID.str.contains('^LPKD17')\n",
    "IDK17 = df.ID.str.contains('^IDK17')\n",
    "WYD17 = df.ID.str.contains('^WYD17')"
   ]
  },
  {
   "cell_type": "code",
   "execution_count": 162,
   "metadata": {},
   "outputs": [],
   "source": [
    "df = df[pkd17 | LPKD17 |IDK17 | WYD17 ]"
   ]
  },
  {
   "cell_type": "code",
   "execution_count": 163,
   "metadata": {},
   "outputs": [],
   "source": [
    "for i in df.index.values :\n",
    "    df.loc[i][0] = df.loc[i][0].strip().replace('MA202(','').replace(')','')"
   ]
  },
  {
   "cell_type": "code",
   "execution_count": 164,
   "metadata": {},
   "outputs": [],
   "source": [
    "df.columns = ['MA202', 'CS202', 'CS204', 'CS206', 'CS232', 'CS208', 'CS234', 'ID', 'HS200']"
   ]
  },
  {
   "cell_type": "code",
   "execution_count": 165,
   "metadata": {},
   "outputs": [],
   "source": [
    "for i in df.index.values :\n",
    "    df.loc[i]['HS200'] = df.loc[i]['HS200'].strip().replace('HS200(','').replace(')','')\n"
   ]
  },
  {
   "cell_type": "code",
   "execution_count": 166,
   "metadata": {},
   "outputs": [],
   "source": [
    "df = df.set_index('ID')"
   ]
  },
  {
   "cell_type": "code",
   "execution_count": 167,
   "metadata": {},
   "outputs": [],
   "source": [
    "df.to_csv('clean_result.csv')"
   ]
  },
  {
   "cell_type": "code",
   "execution_count": 177,
   "metadata": {},
   "outputs": [],
   "source": [
    "df1 = pd.read_csv('clean_result.csv')\n",
    "df2 = pd.read_csv('clean_mech.csv')"
   ]
  },
  {
   "cell_type": "code",
   "execution_count": 176,
   "metadata": {},
   "outputs": [
    {
     "data": {
      "text/plain": [
       "(67, 9)"
      ]
     },
     "execution_count": 176,
     "metadata": {},
     "output_type": "execute_result"
    }
   ],
   "source": [
    "df1.shape"
   ]
  },
  {
   "cell_type": "code",
   "execution_count": 178,
   "metadata": {},
   "outputs": [
    {
     "name": "stderr",
     "output_type": "stream",
     "text": [
      "c:\\users\\abi\\appdata\\local\\programs\\python\\python37\\lib\\site-packages\\ipykernel_launcher.py:1: FutureWarning: specifying 'categories' or 'ordered' in .astype() is deprecated; pass a CategoricalDtype instead\n",
      "  \"\"\"Entry point for launching an IPython kernel.\n",
      "c:\\users\\abi\\appdata\\local\\programs\\python\\python37\\lib\\site-packages\\ipykernel_launcher.py:2: FutureWarning: specifying 'categories' or 'ordered' in .astype() is deprecated; pass a CategoricalDtype instead\n",
      "  \n"
     ]
    }
   ],
   "source": [
    "df1['MA202'] = df1['MA202'].astype('category', categories = ['Absent','F','P','C','C+','B','B+','A','A+','O'],ordered=True)\n",
    "df2['MA202'] = df2['MA202'].astype('category', categories = ['Absent','F','P','C','C+','B','B+','A','A+','O'],ordered=True)"
   ]
  },
  {
   "cell_type": "code",
   "execution_count": 263,
   "metadata": {},
   "outputs": [],
   "source": [
    "x = df1['MA202'].value_counts(sort=False)\n",
    "mex = df2['MA202'].value_counts(sort=False)\n",
    "cetx = cet.value_counts(sort=False)"
   ]
  },
  {
   "cell_type": "code",
   "execution_count": 217,
   "metadata": {},
   "outputs": [],
   "source": [
    "grades = ['Absent','F','P','C','C+','B','B+','A','A+','O']\n",
    "y_pos = np.arange(len(grades))\n",
    "plt.figure()\n",
    "bars = plt.bar(y_pos, x, align='center', color='lightslategrey')\n",
    "plt.xticks(y_pos, grades)\n",
    "plt.ylabel('Count')\n",
    "plt.title('Distribution of MA202')\n",
    "for bar in bars :\n",
    "    if int(bar.get_height())!= 0:\n",
    "        plt.gca().text(bar.get_x()+ bar.get_width()/2, bar.get_height()-.77, str(int(bar.get_height())), ha='center', color='w',fontsize=11)\n",
    "%matplotlib inline"
   ]
  },
  {
   "cell_type": "code",
   "execution_count": 235,
   "metadata": {},
   "outputs": [
    {
     "data": {
      "image/png": "[encoded data removed]",
      "text/plain": [
       "<Figure size 720x432 with 1 Axes>"
      ]
     },
     "metadata": {
      "needs_background": "light"
     },
     "output_type": "display_data"
    },
    {
     "data": {
      "text/plain": [
       "<Figure size 960x1440 with 0 Axes>"
      ]
     },
     "metadata": {},
     "output_type": "display_data"
    }
   ],
   "source": [
    "plt.rcParams['figure.figsize'] = (10,6)\n",
    "grades = ['Absent','F','P','C','C+','B','B+','A','A+','O']\n",
    "y_pos = np.arange(len(grades))\n",
    "plt.figure()\n",
    "\n",
    "ax = plt.subplot(111)\n",
    "bars1 = ax.bar(y_pos-0.3/2, x, width=0.3,color='b', align='center')\n",
    "bars2 = ax.bar(y_pos+0.3/2, mex, width=0.3,color='r', align='center')\n",
    "plt.xticks(y_pos, grades)\n",
    "plt.ylabel('Count')\n",
    "plt.title('Distribution of MA202')\n",
    "\n",
    "\n",
    "for bar in bars1 :\n",
    "    if int(bar.get_height())!= 0:\n",
    "        plt.gca().text(bar.get_x()+ bar.get_width()/2, bar.get_height()-.77, str(int(bar.get_height())), ha='center', color='w',fontsize=8)\n",
    "for bar in bars2 :\n",
    "    if int(bar.get_height())!= 0:\n",
    "        plt.gca().text(bar.get_x()+ bar.get_width()/2, bar.get_height()-.77, str(int(bar.get_height())), ha='center', color='w',fontsize=8)\n",
    "ax.legend((bars1[0],bars2[0]),('CSE',\"MECH\"))\n",
    "figure(num=None, figsize=(12, 18), dpi=80, facecolor='w', edgecolor='k')\n",
    "plt.show()"
   ]
  },
  {
   "cell_type": "code",
   "execution_count": 267,
   "metadata": {},
   "outputs": [
    {
     "data": {
      "image/png": "[encoded data removed]",
      "text/plain": [
       "<Figure size 1008x432 with 1 Axes>"
      ]
     },
     "metadata": {
      "needs_background": "light"
     },
     "output_type": "display_data"
    }
   ],
   "source": [
    "plt.rcParams['figure.figsize'] = (14,6)\n",
    "\n",
    "\n",
    "\n",
    "grades = ['Absent','F','P','C','C+','B','B+','A','A+','O']\n",
    "y_pos = np.arange(0,len(grades)*2,2)\n",
    "plt.figure()\n",
    "\n",
    "ax = plt.subplot(111)\n",
    "cet1 = ax.bar(y_pos, cetx, width=0.5,color='b', align='center', alpha=0.7)\n",
    "bars3 = ax.bar(y_pos-0.5, x, width=0.5,color='chocolate', align='center', alpha=0.7)\n",
    "bars4 = ax.bar(y_pos+0.5, mex, width=0.5,color='darkkhaki', align='center',alpha=0.7)\n",
    "plt.xticks(y_pos, grades)\n",
    "plt.ylabel('Count')\n",
    "plt.title('Distribution of MA202')\n",
    "\n",
    "def add_text_above_bar(bars) :\n",
    "    for bar in bars :\n",
    "        if int(bar.get_height())!= 0:\n",
    "            plt.gca().text(bar.get_x()+ bar.get_width()/2, bar.get_height()-.77, str(int(bar.get_height())), ha='center', color='w',fontsize=13)\n",
    "\n",
    "add_text_above_bar(bars3)\n",
    "add_text_above_bar(bars4)\n",
    "add_text_above_bar(cet1)\n",
    "        \n",
    "        \n",
    "ax.legend((bars3[0],bars4[0],cet1[0]),('CSE',\"MECH\",'CET'))\n",
    "\n",
    "plt.tick_params(\n",
    "    axis='y',          # changes apply to the y-axis\n",
    "    which='both',      # both major and minor ticks are affected\n",
    "    left=False,      # ticks along the bottom edge are off\n",
    "    right=False, labelleft=False)         # ticks along the top edge are off\n",
    "\n",
    "plt.savefig('MA202_withcet.png')\n",
    "#figure(num=None, figsize=(12, 18), dpi=80, facecolor='w', edgecolor='k')\n",
    "plt.show()"
   ]
  },
  {
   "cell_type": "code",
   "execution_count": 213,
   "metadata": {},
   "outputs": [
    {
     "data": {
      "text/plain": [
       "array([ 0,  2,  4,  6,  8, 10, 12, 14, 16, 18])"
      ]
     },
     "execution_count": 213,
     "metadata": {},
     "output_type": "execute_result"
    }
   ],
   "source": [
    "np.arange(0,len(grades)*2,2)"
   ]
  },
  {
   "cell_type": "code",
   "execution_count": null,
   "metadata": {},
   "outputs": [],
   "source": []
  }
 ],
 "metadata": {
  "kernelspec": {
   "display_name": "Python 3",
   "language": "python",
   "name": "python3"
  },
  "language_info": {
   "codemirror_mode": {
    "name": "ipython",
    "version": 3
   },
   "file_extension": ".py",
   "mimetype": "text/x-python",
   "name": "python",
   "nbconvert_exporter": "python",
   "pygments_lexer": "ipython3",
   "version": "3.7.1"
  }
 },
 "nbformat": 4,
 "nbformat_minor": 2
}
