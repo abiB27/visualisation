{
  "nbformat": 4,
  "nbformat_minor": 0,
  "metadata": {
    "colab": {
      "name": "regular expression.ipynb",
      "provenance": [],
      "include_colab_link": true
    },
    "kernelspec": {
      "name": "python3",
      "display_name": "Python 3"
    }
  },
  "cells": [
    {
      "cell_type": "markdown",
      "metadata": {
        "id": "view-in-github",
        "colab_type": "text"
      },
      "source": [
        "<a href=\"https://colab.research.google.com/github/abiB27/visualisation/blob/master/regular_expression.ipynb\" target=\"_parent\"><img src=\"https://colab.research.google.com/assets/colab-badge.svg\" alt=\"Open In Colab\"/></a>"
      ]
    },
    {
      "cell_type": "code",
      "metadata": {
        "id": "Dz-Z1aK78ah9",
        "colab_type": "code",
        "colab": {}
      },
      "source": [
        "import re"
      ],
      "execution_count": 0,
      "outputs": []
    },
    {
      "cell_type": "code",
      "metadata": {
        "id": "cMRmPnaS8cZI",
        "colab_type": "code",
        "colab": {}
      },
      "source": [
        "text = \"my favorite 2 no. is 17 , 89\"\n",
        "\n",
        "y = re.findall('[0-9]+',text)"
      ],
      "execution_count": 0,
      "outputs": []
    },
    {
      "cell_type": "code",
      "metadata": {
        "id": "w1OQsmGn84oo",
        "colab_type": "code",
        "colab": {
          "base_uri": "https://localhost:8080/",
          "height": 35
        },
        "outputId": "43139035-4062-4c63-bfe8-dc3d765ce148"
      },
      "source": [
        "print(y)"
      ],
      "execution_count": 4,
      "outputs": [
        {
          "output_type": "stream",
          "text": [
            "['2', '17', '89']\n"
          ],
          "name": "stdout"
        }
      ]
    },
    {
      "cell_type": "markdown",
      "metadata": {
        "id": "Erxnr_FE-bcQ",
        "colab_type": "text"
      },
      "source": [
        "# greedy matching"
      ]
    },
    {
      "cell_type": "code",
      "metadata": {
        "id": "xppsjAZ-9EGP",
        "colab_type": "code",
        "colab": {
          "base_uri": "https://localhost:8080/",
          "height": 35
        },
        "outputId": "59599afe-be4c-40ed-fd71-b75f09c89323"
      },
      "source": [
        "text = \"From : dont stop there: this example is greedy\"\n",
        "y = re.findall('^F.+:',text)\n",
        "print(y)"
      ],
      "execution_count": 5,
      "outputs": [
        {
          "output_type": "stream",
          "text": [
            "['From : dont stop there:']\n"
          ],
          "name": "stdout"
        }
      ]
    },
    {
      "cell_type": "code",
      "metadata": {
        "id": "tsRm5QOD-3NT",
        "colab_type": "code",
        "colab": {
          "base_uri": "https://localhost:8080/",
          "height": 35
        },
        "outputId": "ed6a1938-e513-4ace-cd99-e99447ed0df5"
      },
      "source": [
        "# what if we need only \"From :\"\n",
        "text = \"From : dont stop there: this example is greedy\"\n",
        "y = re.findall('^F.+?:',text)\n",
        "print(y)\n",
        "\n"
      ],
      "execution_count": 7,
      "outputs": [
        {
          "output_type": "stream",
          "text": [
            "['From :']\n"
          ],
          "name": "stdout"
        }
      ]
    },
    {
      "cell_type": "markdown",
      "metadata": {
        "id": "MPwBEq94As2Q",
        "colab_type": "text"
      },
      "source": [
        "# use of paranthesis"
      ]
    },
    {
      "cell_type": "code",
      "metadata": {
        "id": "iMVfLtbh_RY_",
        "colab_type": "code",
        "colab": {
          "base_uri": "https://localhost:8080/",
          "height": 35
        },
        "outputId": "2ab0ad2d-71b3-4d29-aac9-6dce6a5505e9"
      },
      "source": [
        "## matching a specific format and extracting only some part of it\n",
        "\n",
        "\n",
        "sample = \"from: abijithbahuleyan@gmail.com tuesday 2019\"\n",
        "\n",
        "y = re.findall('^f.*?: (\\S+@\\S+)', sample)\n",
        "\n",
        "print(y)"
      ],
      "execution_count": 9,
      "outputs": [
        {
          "output_type": "stream",
          "text": [
            "['abijithbahuleyan@gmail.com']\n"
          ],
          "name": "stdout"
        }
      ]
    },
    {
      "cell_type": "code",
      "metadata": {
        "id": "YtddqYKUAdV7",
        "colab_type": "code",
        "colab": {
          "base_uri": "https://localhost:8080/",
          "height": 35
        },
        "outputId": "73b066d8-dfe0-441d-a0af-95a09e843123"
      },
      "source": [
        "## [^ ] get something other than white space\n",
        "\n",
        "\n",
        "y = re.findall('@([^ ]*)',sample)\n",
        "print(y)"
      ],
      "execution_count": 12,
      "outputs": [
        {
          "output_type": "stream",
          "text": [
            "['gmail.com']\n"
          ],
          "name": "stdout"
        }
      ]
    },
    {
      "cell_type": "code",
      "metadata": {
        "id": "5cCmNyhvB1Iq",
        "colab_type": "code",
        "colab": {}
      },
      "source": [
        ""
      ],
      "execution_count": 0,
      "outputs": []
    }
  ]
}